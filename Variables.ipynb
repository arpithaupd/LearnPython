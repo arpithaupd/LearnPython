Python is strongly typed. Not really needed to declare the variable but when processing Python infers a specific type for a value or variable. We cannot change the datatype or mix it with other types. 

#works as int
var = 0
print(var)

#re-assigning as string still works
var = "hello there"
print(var)

#ERROR as we are combining different datatypes together
print("country code of india:" + 91)
#works as converted to string
print("country code of india:" + str(91))

#Global vs local variable
